{
 "cells": [
  {
   "cell_type": "markdown",
   "metadata": {},
   "source": [
    "# Imports"
   ]
  },
  {
   "cell_type": "code",
   "execution_count": 1,
   "metadata": {},
   "outputs": [],
   "source": [
    "import pandas as pd\n",
    "import numpy as np\n",
    "import seaborn as sns\n",
    "import missingno as msno\n",
    "import json, nltk\n",
    "\n",
    "import matplotlib.pyplot as plt\n",
    "\n",
    "from nltk.corpus import stopwords\n",
    "from nltk.stem.porter import PorterStemmer\n",
    "from nltk.stem import WordNetLemmatizer\n",
    "\n",
    "from sklearn.linear_model import LogisticRegression, LinearRegression\n",
    "from sklearn.feature_extraction.text import CountVectorizer, TfidfVectorizer, ENGLISH_STOP_WORDS\n",
    "from sklearn.neighbors import KNeighborsClassifier\n",
    "from sklearn.ensemble import RandomForestClassifier, ExtraTreesClassifier\n",
    "from sklearn.naive_bayes import MultinomialNB\n",
    "from sklearn.pipeline import Pipeline, FeatureUnion\n",
    "from sklearn.preprocessing import StandardScaler, FunctionTransformer\n",
    "from sklearn.model_selection import train_test_split, cross_val_score, GridSearchCV\n",
    "from sklearn.metrics import confusion_matrix, accuracy_score, classification_report, roc_auc_score"
   ]
  },
  {
   "cell_type": "markdown",
   "metadata": {},
   "source": [
    "# Functions\n"
   ]
  },
  {
   "cell_type": "markdown",
   "metadata": {},
   "source": [
    "### 1. Function: what_post()\n",
    "- Return rows of `dataframe` that `word` is included in text\n",
    "____\n",
    "**Parameters**\n",
    "- `dataframe`: *dataframe* | dataframe with tweets in 'text' column\n",
    "- `word`: *list of string* | words to search for"
   ]
  },
  {
   "cell_type": "code",
   "execution_count": 2,
   "metadata": {},
   "outputs": [],
   "source": [
    "def what_post(dataframe, word):\n",
    "\n",
    "    if type(word) == str:\n",
    "        return dataframe[(dataframe['text'].str.contains(word))]\n",
    "    if type(word) == list:\n",
    "        return dataframe[dataframe['text'].str.contains('|'.join(word))]"
   ]
  },
  {
   "cell_type": "markdown",
   "metadata": {},
   "source": [
    "### 2. Function: what_score()\n",
    "- Return train score, test score, cv score\n",
    "____\n",
    "**Parameters**\n",
    "- `your_model`: *estimator* | estimator that has been fitted to X\n",
    "- `your_X`: *dataframe* | features\n",
    "- `your_y`: *series* | target "
   ]
  },
  {
   "cell_type": "code",
   "execution_count": 3,
   "metadata": {},
   "outputs": [],
   "source": [
    "def what_score(your_model, your_X, your_y):\n",
    "    \"\"\"\n",
    "    Return train score, test score, cv score\n",
    "    \n",
    "    Parameter:\n",
    "    your_model: estimator\n",
    "    your X: X\n",
    "    your y: y\n",
    "    \"\"\"\n",
    "    X_train, X_test, y_train, y_test = train_test_split(your_X,your_y, random_state = 740)\n",
    "    train_score = your_model.score(X_train, y_train)\n",
    "    test_score = your_model.score(X_test, y_test)\n",
    "    cv_score = cross_val_score(your_model, X_train, y_train, cv = 5).mean()\n",
    "    \n",
    "    preds = your_model.predict(X_test)\n",
    "    tn, fp, fn, tp = confusion_matrix(y_test, preds).ravel()\n",
    "    \n",
    "    sens = (tp / (tp+fn))\n",
    "    spec = (tn / (tn+fp))\n",
    "    \n",
    "#     pd.DataFrame({'train': train_score, 'test': test_score, 'cv': cv_score})\n",
    "    \n",
    "    out = {'train': train_score, 'test':test_score,\n",
    "           \"cv score\": cv_score, \"sensitivity\": sens,\n",
    "           \"specificity\": spec}\n",
    "    \n",
    "    return out"
   ]
  },
  {
   "cell_type": "markdown",
   "metadata": {},
   "source": [
    "### 3. Function: coef_df()\n",
    "- Return a dataframe with following columns from a gridsearch model with a vectorizer and a logistic regression.\n",
    "  1. words\n",
    "  2. coefficient weight (log odd)\n",
    "  3. exponent of coefficient weight (odd)\n",
    "\n",
    "---\n",
    "    \n",
    "**Parameters**\n",
    "- `gridsearch_model`: *GridSearch model* | gridSearch model that has been fitted to `X_train` and `y_train`\n",
    "- `X_train`: *dataframe* | features\n",
    "- `y_train`: *series* | target\n",
    "- `vect_str`: *string* | vectorizer name in the `gridsearch_model`\n",
    "- `reg_str`: *string* | estimator name in the `gridsearch_model`"
   ]
  },
  {
   "cell_type": "code",
   "execution_count": 4,
   "metadata": {},
   "outputs": [],
   "source": [
    "def coef_df(gridsearch_model, X_train, y_train ,vect_str = 'cvec', reg_str = 'lr' ):\n",
    "\n",
    "    col_names = gridsearch_model.best_estimator_.named_steps[vect_str].get_feature_names()\n",
    "    col_coef = gridsearch_model.best_estimator_.named_steps[reg_str].coef_[0]\n",
    "\n",
    "    cvec_coef_df = pd.DataFrame({\n",
    "        'words' : col_names,\n",
    "        'coef' : col_coef,\n",
    "        'exp_coef': np.exp(col_coef)    \n",
    "    })\n",
    "    \n",
    "    return pd.DataFrame(cvec_coef_df)"
   ]
  },
  {
   "cell_type": "markdown",
   "metadata": {},
   "source": [
    "### 4. Function: what_important()\n",
    "- Return a dataframe with following columns from a gridsearch model with a vectorizer and a logistic regression.\n",
    "  1. words\n",
    "  2. coefficient weight (log odd)\n",
    "  3. exponent of coefficient weight (odd)\n",
    "\n",
    "-----\n",
    "    \n",
    "**Parameters**\n",
    "- `rf_model`: *RandomForestClassifier model* | Your RandomForestClassifier model that has been fitted to `X_rf`\n",
    "- `X_rf`: *dataframe* | Features for your `rf_model`\n"
   ]
  },
  {
   "cell_type": "code",
   "execution_count": 5,
   "metadata": {},
   "outputs": [],
   "source": [
    "def what_important(rf_model, X_rf):\n",
    "\n",
    "    out = {'features': X_rf.columns,\n",
    "           'importance': rf_model.feature_importances_}\n",
    "    return pd.DataFrame(out).sort_values(by = 'importance', ascending = False)"
   ]
  },
  {
   "cell_type": "markdown",
   "metadata": {},
   "source": [
    "### 5. Function: auc_roc_plot()\n",
    "- Plot AUC ROC curve\n",
    "\n",
    "----\n",
    "    \n",
    "**Parameters**\n",
    "- `gridsearch_model`: *GridSearch model* | GridSearch model that has been fitted to `X`_train and `y`_train \n",
    "- `X`: *dataframe* | Features\n",
    "- `y`: *series* | Target \n"
   ]
  },
  {
   "cell_type": "code",
   "execution_count": 6,
   "metadata": {},
   "outputs": [],
   "source": [
    "def auc_roc_plot(gridsearch_model, X, y):\n",
    "    \n",
    "    X_train, X_test, y_train, y_test = train_test_split(X, y)\n",
    "        \n",
    "    ths = np.linspace(0, 1, 200)\n",
    "    sens = []\n",
    "    fp_rate = []\n",
    "    pred_proba_df = pd.DataFrame(gridsearch_model.predict_proba(X_test))\n",
    "\n",
    "    # Calculate sensitivity and false positive rate\n",
    "    for th in ths:\n",
    "        preds = pred_proba_df.loc[:,[1]].applymap(lambda x: 1 if (x > th) else 0)\n",
    "         ##https://stackoverflow.com/questions/28716241/controlling-the-threshold-in-logistic-regression-in-scikit-learn\n",
    "\n",
    "        tn, fp, fn, tp = confusion_matrix(y_test, preds).ravel()\n",
    "\n",
    "        sens.append(tp / (tp+fn))\n",
    "        fp_rate.append(1 - (tn / (tn+fp)))\n",
    "\n",
    "    # Plot ROC curve.    \n",
    "    plt.figure(figsize = (15,5))\n",
    "\n",
    "    plt.plot(fp_rate, sens, label = 'ROC Curve')\n",
    "\n",
    "    plt.plot(ths,ths,label='baseline', linestyle='--', color='orange')\n",
    "\n",
    "    plt.title(f'AUC ROC Score: {round(roc_auc_score(y_test, pred_proba_df.loc[:,[1]]),3)}', fontsize = 25)\n",
    "    plt.xlabel('False Posive Rate (1 - Specificity)', fontsize = 18)\n",
    "    plt.ylabel('True Positive Rate (Sensitivity)', fontsize = 18)\n",
    "    plt.xticks(fontsize = 15)\n",
    "    plt.yticks(fontsize = 15)\n",
    "    plt.legend(fontsize = 15)\n",
    "    plt.tight_layout() "
   ]
  },
  {
   "cell_type": "markdown",
   "metadata": {},
   "source": [
    "# Explore and Clean Data "
   ]
  },
  {
   "cell_type": "code",
   "execution_count": 7,
   "metadata": {},
   "outputs": [],
   "source": [
    "# Read data\n",
    "df = pd.read_csv('../data/train_w_label.csv')"
   ]
  },
  {
   "cell_type": "code",
   "execution_count": 8,
   "metadata": {},
   "outputs": [
    {
     "data": {
      "text/html": [
       "<div>\n",
       "<style scoped>\n",
       "    .dataframe tbody tr th:only-of-type {\n",
       "        vertical-align: middle;\n",
       "    }\n",
       "\n",
       "    .dataframe tbody tr th {\n",
       "        vertical-align: top;\n",
       "    }\n",
       "\n",
       "    .dataframe thead th {\n",
       "        text-align: right;\n",
       "    }\n",
       "</style>\n",
       "<table border=\"1\" class=\"dataframe\">\n",
       "  <thead>\n",
       "    <tr style=\"text-align: right;\">\n",
       "      <th></th>\n",
       "      <th>text</th>\n",
       "      <th>hashtags</th>\n",
       "      <th>user_name</th>\n",
       "      <th>date</th>\n",
       "      <th>user_location</th>\n",
       "      <th>label</th>\n",
       "    </tr>\n",
       "  </thead>\n",
       "  <tbody>\n",
       "    <tr>\n",
       "      <th>0</th>\n",
       "      <td>Congrats pre</td>\n",
       "      <td>NaN</td>\n",
       "      <td>MasterAR9012502</td>\n",
       "      <td>2019-10-24 15:05:01+00:00</td>\n",
       "      <td>NaN</td>\n",
       "      <td>0</td>\n",
       "    </tr>\n",
       "    <tr>\n",
       "      <th>1</th>\n",
       "      <td>Wassup?</td>\n",
       "      <td>NaN</td>\n",
       "      <td>theprejon</td>\n",
       "      <td>2019-10-21 20:54:33+00:00</td>\n",
       "      <td>NaN</td>\n",
       "      <td>0</td>\n",
       "    </tr>\n",
       "    <tr>\n",
       "      <th>2</th>\n",
       "      <td>Ini mbc korea yang komen orang indo semueh,, b...</td>\n",
       "      <td>NaN</td>\n",
       "      <td>KhoyrR</td>\n",
       "      <td>2019-10-24 14:19:01+00:00</td>\n",
       "      <td>NaN</td>\n",
       "      <td>0</td>\n",
       "    </tr>\n",
       "    <tr>\n",
       "      <th>3</th>\n",
       "      <td>Meron pre?</td>\n",
       "      <td>NaN</td>\n",
       "      <td>Zendriccccc</td>\n",
       "      <td>2019-10-26 13:00:29+00:00</td>\n",
       "      <td>NaN</td>\n",
       "      <td>0</td>\n",
       "    </tr>\n",
       "    <tr>\n",
       "      <th>4</th>\n",
       "      <td>this is their pre-p3p5 fam love story thanks</td>\n",
       "      <td>NaN</td>\n",
       "      <td>akihikologist</td>\n",
       "      <td>2019-10-21 02:44:47+00:00</td>\n",
       "      <td>NaN</td>\n",
       "      <td>0</td>\n",
       "    </tr>\n",
       "  </tbody>\n",
       "</table>\n",
       "</div>"
      ],
      "text/plain": [
       "                                                text hashtags  \\\n",
       "0                                       Congrats pre      NaN   \n",
       "1                                            Wassup?      NaN   \n",
       "2  Ini mbc korea yang komen orang indo semueh,, b...      NaN   \n",
       "3                                         Meron pre?      NaN   \n",
       "4       this is their pre-p3p5 fam love story thanks      NaN   \n",
       "\n",
       "         user_name                       date user_location  label  \n",
       "0  MasterAR9012502  2019-10-24 15:05:01+00:00           NaN      0  \n",
       "1        theprejon  2019-10-21 20:54:33+00:00           NaN      0  \n",
       "2           KhoyrR  2019-10-24 14:19:01+00:00           NaN      0  \n",
       "3      Zendriccccc  2019-10-26 13:00:29+00:00           NaN      0  \n",
       "4    akihikologist  2019-10-21 02:44:47+00:00           NaN      0  "
      ]
     },
     "execution_count": 8,
     "metadata": {},
     "output_type": "execute_result"
    }
   ],
   "source": [
    "df.head()"
   ]
  },
  {
   "cell_type": "code",
   "execution_count": 9,
   "metadata": {},
   "outputs": [
    {
     "data": {
      "text/plain": [
       "(2728, 6)"
      ]
     },
     "execution_count": 9,
     "metadata": {},
     "output_type": "execute_result"
    }
   ],
   "source": [
    "df.shape"
   ]
  },
  {
   "cell_type": "markdown",
   "metadata": {},
   "source": [
    "We have 2728 rows and 6 columns."
   ]
  },
  {
   "cell_type": "code",
   "execution_count": 13,
   "metadata": {},
   "outputs": [
    {
     "data": {
      "text/plain": [
       "text             object\n",
       "hashtags         object\n",
       "user_name        object\n",
       "date             object\n",
       "user_location    object\n",
       "label             int64\n",
       "dtype: object"
      ]
     },
     "execution_count": 13,
     "metadata": {},
     "output_type": "execute_result"
    }
   ],
   "source": [
    "df.dtypes"
   ]
  },
  {
   "cell_type": "code",
   "execution_count": 231,
   "metadata": {},
   "outputs": [
    {
     "data": {
      "text/plain": [
       "text                1\n",
       "hashtags         1315\n",
       "user_name           0\n",
       "date                3\n",
       "user_location    2726\n",
       "label               0\n",
       "dtype: int64"
      ]
     },
     "execution_count": 231,
     "metadata": {},
     "output_type": "execute_result"
    }
   ],
   "source": [
    "df.isnull().sum()"
   ]
  },
  {
   "cell_type": "code",
   "execution_count": 232,
   "metadata": {},
   "outputs": [
    {
     "data": {
      "image/png": "[encoded data removed]",
      "text/plain": [
       "<Figure size 720x360 with 3 Axes>"
      ]
     },
     "metadata": {
      "needs_background": "light"
     },
     "output_type": "display_data"
    }
   ],
   "source": [
    "plt.title(label = 'Number of Non-null Values', fontsize = 15)\n",
    "msno.bar(df, sort = \"ascending\", figsize= (10,5), fontsize = 12);\n",
    "plt.tight_layout()"
   ]
  },
  {
   "cell_type": "markdown",
   "metadata": {},
   "source": [
    "- Among total of 2728 rows, number of rows with non-null values are following.\n",
    "      - text: 2727\n",
    "      - hashtags: 1413\n",
    "      - user_name: 2728\n",
    "      - date: 2725\n",
    "      - user_location: 2\n",
    "      - label: 2728\n",
    "\n",
    "- About half of observations in 'hashtags' column.\n",
    "- There is only 2 observations in 'user_locations' column. Therefore, drop user_location column completely since there isn't enough locations available (We could only scrap 2). "
   ]
  },
  {
   "cell_type": "code",
   "execution_count": 233,
   "metadata": {},
   "outputs": [],
   "source": [
    "# Using drop funtion and over writing the dataframe. Axis= 1 means we are dropping the column\n",
    "df = df.drop('user_location', axis = 1)"
   ]
  },
  {
   "cell_type": "markdown",
   "metadata": {},
   "source": [
    "**Check 'label' column:**\n",
    "   - 0 represents irrelevant tweets\n",
    "   - 1 represents relevant tweets\n",
    "   - 2 represents may be relevent or may not be relevant (ambiguous tweets)"
   ]
  },
  {
   "cell_type": "code",
   "execution_count": 234,
   "metadata": {},
   "outputs": [
    {
     "data": {
      "text/plain": [
       "0    1840\n",
       "1     804\n",
       "2      84\n",
       "Name: label, dtype: int64"
      ]
     },
     "execution_count": 234,
     "metadata": {},
     "output_type": "execute_result"
    }
   ],
   "source": [
    "df['label'].value_counts()"
   ]
  },
  {
   "cell_type": "code",
   "execution_count": 235,
   "metadata": {},
   "outputs": [
    {
     "data": {
      "image/png": "[encoded data removed]",
      "text/plain": [
       "<Figure size 432x288 with 1 Axes>"
      ]
     },
     "metadata": {
      "needs_background": "light"
     },
     "output_type": "display_data"
    }
   ],
   "source": [
    "plt.title('Value counts for labels')\n",
    "df['label'].value_counts(normalize=True).plot(kind = 'barh', color = 'orange');\n",
    "plt.ylabel('Classes')\n",
    "plt.xlabel('Value counts [%]');"
   ]
  },
  {
   "cell_type": "markdown",
   "metadata": {},
   "source": [
    "Class 1 and 2 are about 3 to 7 ratio and the two classes are total of 2644 rows. The size of the data is big enough to build model. As there will be more tweets that are not related to disasters than the ones that are related to disasters, the class ratio of 3 to 7 is good starting point."
   ]
  },
  {
   "cell_type": "code",
   "execution_count": 236,
   "metadata": {},
   "outputs": [],
   "source": [
    "# rewriting the dataframe without label = 2\n",
    "df = df[df['label']!=2]"
   ]
  },
  {
   "cell_type": "code",
   "execution_count": 237,
   "metadata": {},
   "outputs": [
    {
     "data": {
      "text/plain": [
       "0    1840\n",
       "1     804\n",
       "Name: label, dtype: int64"
      ]
     },
     "execution_count": 237,
     "metadata": {},
     "output_type": "execute_result"
    }
   ],
   "source": [
    "#checking to make sure label = 2 is dropped\n",
    "df['label'].value_counts()"
   ]
  },
  {
   "cell_type": "markdown",
   "metadata": {},
   "source": [
    "**Clean date column**:\n",
    "Dropped the rows with null dates"
   ]
  },
  {
   "cell_type": "code",
   "execution_count": 238,
   "metadata": {},
   "outputs": [],
   "source": [
    "df['date'].dropna(inplace=True)"
   ]
  },
  {
   "cell_type": "markdown",
   "metadata": {},
   "source": [
    "**Clean text column**:\n",
    "Replace null rows with empty string."
   ]
  },
  {
   "cell_type": "code",
   "execution_count": 239,
   "metadata": {},
   "outputs": [],
   "source": [
    "df['text'] = df['text'].fillna(\"\").copy()"
   ]
  },
  {
   "cell_type": "markdown",
   "metadata": {},
   "source": [
    "# Stop Words"
   ]
  },
  {
   "cell_type": "code",
   "execution_count": 271,
   "metadata": {},
   "outputs": [],
   "source": [
    "stop_word_list = list(ENGLISH_STOP_WORDS) + ['fire', 'firefighters', \n",
    "                                             'twitter', 'pic', 'www', 'http', 'https','massive', \n",
    "                                             'wildfire', 'busted', 'burns', 'patch', 'california', \n",
    "                                             'utm_campaign','com', 'ho', 'bad', 'new', 'round', '3a', \n",
    "                                             'trueanthem', 'content', 'content_utm']"
   ]
  },
  {
   "cell_type": "markdown",
   "metadata": {},
   "source": [
    "**Check how often stopwords appear in tweets**"
   ]
  },
  {
   "cell_type": "code",
   "execution_count": 241,
   "metadata": {},
   "outputs": [
    {
     "data": {
      "image/png": "[encoded data removed]",
      "text/plain": [
       "<Figure size 576x504 with 1 Axes>"
      ]
     },
     "metadata": {
      "needs_background": "light"
     },
     "output_type": "display_data"
    }
   ],
   "source": [
    "cv = CountVectorizer(ngram_range =(1,1), min_df= 2)\n",
    "text_ft_sw= cv.fit_transform(df['text'])\n",
    "text_df_sw= pd.DataFrame(text_ft_sw.toarray(), columns=cv.get_feature_names())\n",
    "\n",
    "cols_in_stopwords = []\n",
    "for val in text_df_sw.columns:\n",
    "    if val in custom_stop:\n",
    "        cols_in_stopwords.append(val)\n",
    "\n",
    "text_df_sw[cols_in_stopwords].sum().sort_values(ascending=False).head(15).plot(kind='barh', figsize= (8,7), color = 'orange')\n",
    "plt.title('Stop Words Freaquency', fontsize = 15);"
   ]
  },
  {
   "cell_type": "code",
   "execution_count": 242,
   "metadata": {},
   "outputs": [
    {
     "data": {
      "text/plain": [
       "(2644, 3782)"
      ]
     },
     "execution_count": 242,
     "metadata": {},
     "output_type": "execute_result"
    }
   ],
   "source": [
    "text_df_sw.shape"
   ]
  },
  {
   "cell_type": "markdown",
   "metadata": {},
   "source": [
    "15th most frequent stopword appear in about 65 percent of the tweets. This suggests that the stopwords appears in most tweets and are not likely to be important factor in classifying disaster related tweets. More stopwords can to be added or some stopword can be eliminated depends on the model's performance.\n",
    "\n",
    "---\n"
   ]
  },
  {
   "cell_type": "markdown",
   "metadata": {},
   "source": [
    "\n",
    "**Perform a split of our `X` and `y`**"
   ]
  },
  {
   "cell_type": "code",
   "execution_count": 243,
   "metadata": {},
   "outputs": [],
   "source": [
    "X = df['text']\n",
    "y = df['label']\n",
    "\n",
    "X_train,X_test, y_train,y_test = train_test_split(X, y, random_state = 740)"
   ]
  },
  {
   "cell_type": "markdown",
   "metadata": {},
   "source": [
    "# Modeling\n",
    "\n",
    "In order to classify tweets as relevant, we aimed to **minimize false negatives (type II error)** and worked to **maximize our sensitivity score**.  False negative values occur when a tweet that is about a disaster is classified as being irrelevant and we did not want to miss any tweets that might matter. "
   ]
  },
  {
   "cell_type": "markdown",
   "metadata": {},
   "source": [
    "### 1. Logistic Regression : TF- IDF"
   ]
  },
  {
   "cell_type": "markdown",
   "metadata": {},
   "source": [
    "**Search for best hyperparameters using Gridsearch**\n",
    "\n",
    "| Hyperparameter | Description |\n",
    "| --- | ---|\n",
    "| **`tfidf__n_gram_range`** | The lower and upper boundary of the range of n-values for different n-grams to be extracted. |\n",
    "| **`tfidf__max_df`** | When building the vocabulary ignore terms that have a document frequency strictly higher than the given threshold  |\n",
    "| **`tfidf__min_df`** | When building the vocabulary ignore terms that have a document frequency strictly lower than the given threshold. |\n",
    "| **`tfidf__analyzer`** | Whether the feature should be made of word or character n-grams. |\n",
    "| **`tfidf__max_features`** | Build a vocabulary that only consider the top max_features ordered by term frequency across the corpus |"
   ]
  },
  {
   "cell_type": "markdown",
   "metadata": {},
   "source": [
    "**Build pipeline before Gridsearching**"
   ]
  },
  {
   "cell_type": "code",
   "execution_count": 244,
   "metadata": {},
   "outputs": [],
   "source": [
    "pipe = Pipeline([('tfidf', TfidfVectorizer(stop_words = custom_stop)),\n",
    "                 ('logreg', LogisticRegression(solver = 'lbfgs', multi_class = 'auto'))])"
   ]
  },
  {
   "cell_type": "code",
   "execution_count": 245,
   "metadata": {},
   "outputs": [],
   "source": [
    "pipe_params = {\n",
    "    'tfidf__ngram_range' :[(1,1)],\n",
    "    'tfidf__max_df':[.8],\n",
    "    'tfidf__min_df' :[3,4,5,6,7],\n",
    "    'tfidf__analyzer': ['word'],\n",
    "    'tfidf__max_features':[5000, 3000, 2000]}"
   ]
  },
  {
   "cell_type": "code",
   "execution_count": 246,
   "metadata": {},
   "outputs": [],
   "source": [
    "gs = GridSearchCV(pipe, pipe_params, cv = 5)\n",
    "gs.fit(X_train, y_train);"
   ]
  },
  {
   "cell_type": "markdown",
   "metadata": {},
   "source": [
    "**Best Parameters from our Gridsearch**"
   ]
  },
  {
   "cell_type": "code",
   "execution_count": 247,
   "metadata": {},
   "outputs": [
    {
     "data": {
      "text/plain": [
       "{'tfidf__analyzer': 'word',\n",
       " 'tfidf__max_df': 0.8,\n",
       " 'tfidf__max_features': 5000,\n",
       " 'tfidf__min_df': 7,\n",
       " 'tfidf__ngram_range': (1, 1)}"
      ]
     },
     "execution_count": 247,
     "metadata": {},
     "output_type": "execute_result"
    }
   ],
   "source": [
    "gs.best_params_"
   ]
  },
  {
   "cell_type": "markdown",
   "metadata": {},
   "source": [
    "**Score from our Gridsearch**"
   ]
  },
  {
   "cell_type": "code",
   "execution_count": 248,
   "metadata": {},
   "outputs": [
    {
     "data": {
      "text/plain": [
       "{'train': 0.8819969742813918,\n",
       " 'test': 0.8608169440242057,\n",
       " 'cv score': 0.8315751978220491,\n",
       " 'sensitivity': 0.6243386243386243,\n",
       " 'specificity': 0.9555084745762712}"
      ]
     },
     "execution_count": 248,
     "metadata": {},
     "output_type": "execute_result"
    }
   ],
   "source": [
    "what_score(gs.best_estimator_, X, y)"
   ]
  },
  {
   "cell_type": "markdown",
   "metadata": {},
   "source": [
    "** Check important words in classifying disaster related tweets (coefficient analysis)**"
   ]
  },
  {
   "cell_type": "code",
   "execution_count": 249,
   "metadata": {},
   "outputs": [],
   "source": [
    "coef_tfidf = coef_df(gs, X_train, y_train ,vect_str = 'tfidf', reg_str = 'logreg' )"
   ]
  },
  {
   "cell_type": "code",
   "execution_count": 250,
   "metadata": {},
   "outputs": [
    {
     "data": {
      "text/html": [
       "<div>\n",
       "<style scoped>\n",
       "    .dataframe tbody tr th:only-of-type {\n",
       "        vertical-align: middle;\n",
       "    }\n",
       "\n",
       "    .dataframe tbody tr th {\n",
       "        vertical-align: top;\n",
       "    }\n",
       "\n",
       "    .dataframe thead th {\n",
       "        text-align: right;\n",
       "    }\n",
       "</style>\n",
       "<table border=\"1\" class=\"dataframe\">\n",
       "  <thead>\n",
       "    <tr style=\"text-align: right;\">\n",
       "      <th></th>\n",
       "      <th>words</th>\n",
       "      <th>coef</th>\n",
       "      <th>exp_coef</th>\n",
       "    </tr>\n",
       "  </thead>\n",
       "  <tbody>\n",
       "    <tr>\n",
       "      <th>630</th>\n",
       "      <td>winds</td>\n",
       "      <td>3.213300</td>\n",
       "      <td>24.860987</td>\n",
       "    </tr>\n",
       "    <tr>\n",
       "      <th>95</th>\n",
       "      <td>canyon</td>\n",
       "      <td>3.192201</td>\n",
       "      <td>24.341944</td>\n",
       "    </tr>\n",
       "    <tr>\n",
       "      <th>36</th>\n",
       "      <td>acres</td>\n",
       "      <td>2.843169</td>\n",
       "      <td>17.170100</td>\n",
       "    </tr>\n",
       "    <tr>\n",
       "      <th>1</th>\n",
       "      <td>000</td>\n",
       "      <td>2.090911</td>\n",
       "      <td>8.092285</td>\n",
       "    </tr>\n",
       "    <tr>\n",
       "      <th>614</th>\n",
       "      <td>view</td>\n",
       "      <td>2.015795</td>\n",
       "      <td>7.506694</td>\n",
       "    </tr>\n",
       "    <tr>\n",
       "      <th>361</th>\n",
       "      <td>map</td>\n",
       "      <td>1.945584</td>\n",
       "      <td>6.997716</td>\n",
       "    </tr>\n",
       "    <tr>\n",
       "      <th>533</th>\n",
       "      <td>smoke</td>\n",
       "      <td>1.833344</td>\n",
       "      <td>6.254768</td>\n",
       "    </tr>\n",
       "    <tr>\n",
       "      <th>48</th>\n",
       "      <td>ana</td>\n",
       "      <td>1.751442</td>\n",
       "      <td>5.762906</td>\n",
       "    </tr>\n",
       "    <tr>\n",
       "      <th>112</th>\n",
       "      <td>closed</td>\n",
       "      <td>1.743505</td>\n",
       "      <td>5.717350</td>\n",
       "    </tr>\n",
       "    <tr>\n",
       "      <th>416</th>\n",
       "      <td>palisades</td>\n",
       "      <td>1.729469</td>\n",
       "      <td>5.637658</td>\n",
       "    </tr>\n",
       "  </tbody>\n",
       "</table>\n",
       "</div>"
      ],
      "text/plain": [
       "         words      coef   exp_coef\n",
       "630      winds  3.213300  24.860987\n",
       "95      canyon  3.192201  24.341944\n",
       "36       acres  2.843169  17.170100\n",
       "1          000  2.090911   8.092285\n",
       "614       view  2.015795   7.506694\n",
       "361        map  1.945584   6.997716\n",
       "533      smoke  1.833344   6.254768\n",
       "48         ana  1.751442   5.762906\n",
       "112     closed  1.743505   5.717350\n",
       "416  palisades  1.729469   5.637658"
      ]
     },
     "execution_count": 250,
     "metadata": {},
     "output_type": "execute_result"
    }
   ],
   "source": [
    "coef_tfidf.sort_values(by = 'exp_coef', ascending = False).head(10)"
   ]
  },
  {
   "cell_type": "code",
   "execution_count": 251,
   "metadata": {},
   "outputs": [
    {
     "data": {
      "image/png": "[encoded data removed]",
      "text/plain": [
       "<Figure size 576x360 with 1 Axes>"
      ]
     },
     "metadata": {
      "needs_background": "light"
     },
     "output_type": "display_data"
    }
   ],
   "source": [
    "fig = plt.figure(figsize=(8,5))\n",
    "sns.barplot(y= 'words', x = 'exp_coef',\n",
    "            data= coef_tfidf.sort_values(by = 'exp_coef', ascending = False).head(7),\n",
    "            color = 'orange')\n",
    "plt.xlabel(\"Odds that the tweet is about disasters\", fontsize=15)\n",
    "plt.ylabel(\"Words\", fontsize = 15)\n",
    "plt.xticks(fontsize = 15)\n",
    "plt.yticks(fontsize = 15);"
   ]
  },
  {
   "cell_type": "markdown",
   "metadata": {},
   "source": [
    "Winds, canyon and acres are among the most import words in classifying disaster realted tweets. The disaster type of the scrapped data is restrained to 'wild fire'. Considering winds are important indicator in understanding where the fire is spreading towards and how fast the fire is spreading.  However, I'm not sure how the words '000', 'view' and 'map' are related to wildfire.\n",
    "\n",
    "---\n",
    "\n",
    "**Explore how words '000', 'view' and 'map' are used in disaster related tweets.**"
   ]
  },
  {
   "cell_type": "code",
   "execution_count": 252,
   "metadata": {},
   "outputs": [
    {
     "data": {
      "text/html": [
       "<div>\n",
       "<style scoped>\n",
       "    .dataframe tbody tr th:only-of-type {\n",
       "        vertical-align: middle;\n",
       "    }\n",
       "\n",
       "    .dataframe tbody tr th {\n",
       "        vertical-align: top;\n",
       "    }\n",
       "\n",
       "    .dataframe thead th {\n",
       "        text-align: right;\n",
       "    }\n",
       "</style>\n",
       "<table border=\"1\" class=\"dataframe\">\n",
       "  <thead>\n",
       "    <tr style=\"text-align: right;\">\n",
       "      <th></th>\n",
       "      <th>text</th>\n",
       "      <th>hashtags</th>\n",
       "      <th>user_name</th>\n",
       "      <th>date</th>\n",
       "      <th>label</th>\n",
       "    </tr>\n",
       "  </thead>\n",
       "  <tbody>\n",
       "    <tr>\n",
       "      <th>915</th>\n",
       "      <td>A Wish To All Of My Family / Friends / Colleag...</td>\n",
       "      <td>NaN</td>\n",
       "      <td>ChrisLevinson</td>\n",
       "      <td>2019-10-27 21:26:57+00:00</td>\n",
       "      <td>1</td>\n",
       "    </tr>\n",
       "    <tr>\n",
       "      <th>944</th>\n",
       "      <td>SoCal’s Tickfire 55 Percent Contained, NoCal’s...</td>\n",
       "      <td>NaN</td>\n",
       "      <td>LightfootInHwd</td>\n",
       "      <td>2019-10-27 13:25:32+00:00</td>\n",
       "      <td>1</td>\n",
       "    </tr>\n",
       "    <tr>\n",
       "      <th>945</th>\n",
       "      <td>SoCal’s Tickfire 55 Percent Contained, NoCal’s...</td>\n",
       "      <td>NaN</td>\n",
       "      <td>Highlighthwd</td>\n",
       "      <td>2019-10-27 13:25:31+00:00</td>\n",
       "      <td>1</td>\n",
       "    </tr>\n",
       "    <tr>\n",
       "      <th>950</th>\n",
       "      <td>Large bones that appeared to belong to a decea...</td>\n",
       "      <td>NaN</td>\n",
       "      <td>KTLAMorningNews</td>\n",
       "      <td>2019-10-27 12:32:36+00:00</td>\n",
       "      <td>1</td>\n",
       "    </tr>\n",
       "    <tr>\n",
       "      <th>951</th>\n",
       "      <td>Large bones that appeared to belong to a decea...</td>\n",
       "      <td>NaN</td>\n",
       "      <td>KTLA</td>\n",
       "      <td>2019-10-27 12:06:03+00:00</td>\n",
       "      <td>1</td>\n",
       "    </tr>\n",
       "  </tbody>\n",
       "</table>\n",
       "</div>"
      ],
      "text/plain": [
       "                                                  text hashtags  \\\n",
       "915  A Wish To All Of My Family / Friends / Colleag...      NaN   \n",
       "944  SoCal’s Tickfire 55 Percent Contained, NoCal’s...      NaN   \n",
       "945  SoCal’s Tickfire 55 Percent Contained, NoCal’s...      NaN   \n",
       "950  Large bones that appeared to belong to a decea...      NaN   \n",
       "951  Large bones that appeared to belong to a decea...      NaN   \n",
       "\n",
       "           user_name                       date  label  \n",
       "915    ChrisLevinson  2019-10-27 21:26:57+00:00      1  \n",
       "944   LightfootInHwd  2019-10-27 13:25:32+00:00      1  \n",
       "945     Highlighthwd  2019-10-27 13:25:31+00:00      1  \n",
       "950  KTLAMorningNews  2019-10-27 12:32:36+00:00      1  \n",
       "951             KTLA  2019-10-27 12:06:03+00:00      1  "
      ]
     },
     "execution_count": 252,
     "metadata": {},
     "output_type": "execute_result"
    }
   ],
   "source": [
    "what_post(df, ['000','view','map']).loc[what_post(df, ['000','view','map'])['label'] == 1,:].head()"
   ]
  },
  {
   "cell_type": "markdown",
   "metadata": {},
   "source": [
    "- **'000'**: '000' was used in tweets that talked about statistics about fire. (Ex. patrol guy started a 47,000 acre wildfire, Wildfire Has Affected Over 100,000 People & Over 4,000 Acres!)\n",
    "- **'view'**: 'view' was used in tweets that explained what the user was seeing. (Ex. Stayed at a hotel last night because of #TickFire evacuations. Woke up to this view.., The #KincadeFire view from Petrified Forest Road)\n",
    "- **'map'**: 'map' was used in tweets that displays map."
   ]
  },
  {
   "cell_type": "markdown",
   "metadata": {},
   "source": [
    "**Check the result of the fitting**"
   ]
  },
  {
   "cell_type": "code",
   "execution_count": 253,
   "metadata": {},
   "outputs": [
    {
     "data": {
      "text/plain": [
       "{'train': 0.8819969742813918,\n",
       " 'test': 0.8608169440242057,\n",
       " 'cv score': 0.8315751978220491,\n",
       " 'sensitivity': 0.6243386243386243,\n",
       " 'specificity': 0.9555084745762712}"
      ]
     },
     "execution_count": 253,
     "metadata": {},
     "output_type": "execute_result"
    }
   ],
   "source": [
    "what_score(gs.best_estimator_, X, y)"
   ]
  },
  {
   "cell_type": "code",
   "execution_count": 254,
   "metadata": {},
   "outputs": [
    {
     "data": {
      "image/png": "[encoded data removed]",
      "text/plain": [
       "<Figure size 1080x360 with 1 Axes>"
      ]
     },
     "metadata": {
      "needs_background": "light"
     },
     "output_type": "display_data"
    }
   ],
   "source": [
    "auc_roc_plot(gs, X, y)"
   ]
  },
  {
   "cell_type": "markdown",
   "metadata": {},
   "source": [
    "### Result (Logistic Regression : TF- IDF)\n",
    "\n",
    "| Score Type | Scores       |\n",
    "|-------------------|--------------------|\n",
    "| Train score    | 0.88 |                                            \n",
    "| Test score     | 0.86 |                            \n",
    "| CV score   | 0.83 |\n",
    "| Sensitivity| 0.62 |\n",
    "| Specificity| 0.95 | \n",
    "| AUC ROC| 0.96 | \n",
    "\n",
    "Observations:\n",
    "- Test score and CV score is higher than Train score. This shows a sign of overfit (high variance)\n",
    "- Sensitivity is lower than specificity. As we aim to opimize our model on sensitivity, this needs an improvement."
   ]
  },
  {
   "cell_type": "markdown",
   "metadata": {},
   "source": [
    "### 2. Random Forest : TF- IDF"
   ]
  },
  {
   "cell_type": "markdown",
   "metadata": {},
   "source": [
    "**Search for best hyperparameters using Gridsearch**\n",
    "\n",
    "| Argument | Description| \n",
    "| --- | ---|\n",
    "| **`tfidf__n_gram_range`** | The lower and upper boundary of the range of n-values for different n-grams to be extracted. |\n",
    "| **`tfidf__max_df`** | When building the vocabulary ignore terms that have a document frequency strictly higher than the given threshold  |\n",
    "| **`tfidf__min_df`** | When building the vocabulary ignore terms that have a document frequency strictly lower than the given threshold. |\n",
    "| **`tfidf__analyzer`** | Whether the feature should be made of word or character n-grams. |\n",
    "| **`tfidf__max_features`** | Build a vocabulary that only consider the top max_features ordered by term frequency across the corpus |\n",
    "| **`rf__n_estimators`** | The number of trees in the forest. |\n",
    "| **`rf__max_depth`** | The maximum depth of the tree. |\n"
   ]
  },
  {
   "cell_type": "markdown",
   "metadata": {},
   "source": [
    "**Build pipeline before Gridsearching**"
   ]
  },
  {
   "cell_type": "code",
   "execution_count": 255,
   "metadata": {},
   "outputs": [],
   "source": [
    "pipe_2 = Pipeline([('tfidf', TfidfVectorizer(stop_words = custom_stop)),\n",
    "                 ('rf', RandomForestClassifier())])\n",
    "\n",
    "\n",
    "pipe_params_2 = {\n",
    "    'tfidf__ngram_range' :[(1,1), (1,2)],\n",
    "    'tfidf__max_df':[.8],\n",
    "    'tfidf__min_df' :[3,4,5,6,7],\n",
    "    'tfidf__analyzer': ['word'],\n",
    "    'tfidf__max_features':[5000, 3000, 2000],\n",
    "    'rf__n_estimators':[10, 100, 300],\n",
    "    'rf__max_depth' : [4, 5, 6]}"
   ]
  },
  {
   "cell_type": "code",
   "execution_count": 256,
   "metadata": {},
   "outputs": [],
   "source": [
    "gs_2 = GridSearchCV(pipe_2, param_grid = pipe_params_2, cv = 5)"
   ]
  },
  {
   "cell_type": "code",
   "execution_count": 257,
   "metadata": {},
   "outputs": [],
   "source": [
    "gs_2.fit(X_train, y_train);"
   ]
  },
  {
   "cell_type": "markdown",
   "metadata": {},
   "source": [
    "**Best Parameters from our Gridsearch**"
   ]
  },
  {
   "cell_type": "code",
   "execution_count": 258,
   "metadata": {},
   "outputs": [
    {
     "data": {
      "text/plain": [
       "{'rf__max_depth': 6,\n",
       " 'rf__n_estimators': 10,\n",
       " 'tfidf__analyzer': 'word',\n",
       " 'tfidf__max_df': 0.8,\n",
       " 'tfidf__max_features': 2000,\n",
       " 'tfidf__min_df': 6,\n",
       " 'tfidf__ngram_range': (1, 2)}"
      ]
     },
     "execution_count": 258,
     "metadata": {},
     "output_type": "execute_result"
    }
   ],
   "source": [
    "gs_2.best_params_"
   ]
  },
  {
   "cell_type": "markdown",
   "metadata": {},
   "source": [
    "**Score from our Gridsearch**"
   ]
  },
  {
   "cell_type": "code",
   "execution_count": 259,
   "metadata": {},
   "outputs": [
    {
     "data": {
      "text/plain": [
       "{'train': 0.7725668179525971,\n",
       " 'test': 0.762481089258699,\n",
       " 'cv score': 0.760972444851538,\n",
       " 'sensitivity': 0.21693121693121692,\n",
       " 'specificity': 0.9809322033898306}"
      ]
     },
     "execution_count": 259,
     "metadata": {},
     "output_type": "execute_result"
    }
   ],
   "source": [
    "what_score(gs_2.best_estimator_, X, y)"
   ]
  },
  {
   "cell_type": "code",
   "execution_count": 260,
   "metadata": {},
   "outputs": [
    {
     "data": {
      "image/png": "[encoded data removed]",
      "text/plain": [
       "<Figure size 1080x360 with 1 Axes>"
      ]
     },
     "metadata": {
      "needs_background": "light"
     },
     "output_type": "display_data"
    }
   ],
   "source": [
    "auc_roc_plot(gs_2, X, y)"
   ]
  },
  {
   "cell_type": "markdown",
   "metadata": {},
   "source": [
    "** Check important words in classifying disaster related tweets**"
   ]
  },
  {
   "cell_type": "code",
   "execution_count": 261,
   "metadata": {},
   "outputs": [
    {
     "data": {
      "text/html": [
       "<div>\n",
       "<style scoped>\n",
       "    .dataframe tbody tr th:only-of-type {\n",
       "        vertical-align: middle;\n",
       "    }\n",
       "\n",
       "    .dataframe tbody tr th {\n",
       "        vertical-align: top;\n",
       "    }\n",
       "\n",
       "    .dataframe thead th {\n",
       "        text-align: right;\n",
       "    }\n",
       "</style>\n",
       "<table border=\"1\" class=\"dataframe\">\n",
       "  <thead>\n",
       "    <tr style=\"text-align: right;\">\n",
       "      <th></th>\n",
       "      <th>features</th>\n",
       "      <th>importance</th>\n",
       "    </tr>\n",
       "  </thead>\n",
       "  <tbody>\n",
       "    <tr>\n",
       "      <th>65</th>\n",
       "      <td>acres</td>\n",
       "      <td>0.099774</td>\n",
       "    </tr>\n",
       "    <tr>\n",
       "      <th>163</th>\n",
       "      <td>canyon</td>\n",
       "      <td>0.079189</td>\n",
       "    </tr>\n",
       "    <tr>\n",
       "      <th>902</th>\n",
       "      <td>winds</td>\n",
       "      <td>0.060192</td>\n",
       "    </tr>\n",
       "    <tr>\n",
       "      <th>89</th>\n",
       "      <td>angeles</td>\n",
       "      <td>0.052983</td>\n",
       "    </tr>\n",
       "    <tr>\n",
       "      <th>769</th>\n",
       "      <td>sonoma</td>\n",
       "      <td>0.041782</td>\n",
       "    </tr>\n",
       "    <tr>\n",
       "      <th>2</th>\n",
       "      <td>000 acres</td>\n",
       "      <td>0.038769</td>\n",
       "    </tr>\n",
       "    <tr>\n",
       "      <th>640</th>\n",
       "      <td>pre</td>\n",
       "      <td>0.038659</td>\n",
       "    </tr>\n",
       "    <tr>\n",
       "      <th>212</th>\n",
       "      <td>country</td>\n",
       "      <td>0.027582</td>\n",
       "    </tr>\n",
       "    <tr>\n",
       "      <th>86</th>\n",
       "      <td>ana</td>\n",
       "      <td>0.023740</td>\n",
       "    </tr>\n",
       "    <tr>\n",
       "      <th>861</th>\n",
       "      <td>update</td>\n",
       "      <td>0.020621</td>\n",
       "    </tr>\n",
       "  </tbody>\n",
       "</table>\n",
       "</div>"
      ],
      "text/plain": [
       "      features  importance\n",
       "65       acres    0.099774\n",
       "163     canyon    0.079189\n",
       "902      winds    0.060192\n",
       "89     angeles    0.052983\n",
       "769     sonoma    0.041782\n",
       "2    000 acres    0.038769\n",
       "640        pre    0.038659\n",
       "212    country    0.027582\n",
       "86         ana    0.023740\n",
       "861     update    0.020621"
      ]
     },
     "execution_count": 261,
     "metadata": {},
     "output_type": "execute_result"
    }
   ],
   "source": [
    "tfidf = gs_2.best_estimator_.named_steps['tfidf']\n",
    "tfidf_X = tfidf.fit_transform(X_train)\n",
    "tfidf_X_df= pd.DataFrame(tfidf_X.toarray(), columns=tfidf.get_feature_names())\n",
    "imp_rf = what_important(gs_2.best_estimator_.named_steps['rf'], tfidf_X_df)\n",
    "imp_rf.sort_values(by = 'importance', ascending = False).head(10)"
   ]
  },
  {
   "cell_type": "code",
   "execution_count": 262,
   "metadata": {},
   "outputs": [
    {
     "data": {
      "image/png": "[encoded data removed]",
      "text/plain": [
       "<Figure size 576x360 with 1 Axes>"
      ]
     },
     "metadata": {
      "needs_background": "light"
     },
     "output_type": "display_data"
    }
   ],
   "source": [
    "fig = plt.figure(figsize=(8,5))\n",
    "sns.barplot(y= 'features', x = 'importance',\n",
    "            data= imp_rf.sort_values(by = 'importance', ascending = False).head(10), color = 'orange')\n",
    "plt.xlabel(\"Importance of words in classifying disaster tweets\", fontsize=15)\n",
    "plt.ylabel(\"Words\", fontsize = 15)\n",
    "plt.xticks(fontsize = 15)\n",
    "plt.yticks(fontsize = 15);"
   ]
  },
  {
   "cell_type": "markdown",
   "metadata": {},
   "source": [
    "### Result (Random Forest : TF- IDF)\n",
    "\n",
    "\n",
    "| Scores   | Results        | \n",
    "|------|--------|\n",
    "| Train score    | 0.77 | \n",
    "| Test score     | 0.76 |\n",
    "| CV score   | 0.76 |\n",
    "| Sensitivity | 0.22 |\n",
    "| Specificity | 0.98|\n",
    "| AUC ROC| 0.87 |\n",
    "\n",
    "\n",
    "Accuracy scores (train, text, CV scores) are lower than Logistic Regression : TF-IDF model, although overfit was relieved. Furthermore, AUC ROC score of 0.87 shows the sign of inbalance in type 1 error and type 2 errors. This can be confirmed with sensitivity of 0.22 and specificity of 0.98. Most importantly, as we are optimizing for sensitivity, the low sensitivity means the model is poorly performing. "
   ]
  },
  {
   "cell_type": "markdown",
   "metadata": {},
   "source": [
    "### 3. Multinomial Naive Bayes: CountVectorizer"
   ]
  },
  {
   "cell_type": "markdown",
   "metadata": {},
   "source": [
    "**Search for best hyperparameters using Gridsearch**"
   ]
  },
  {
   "cell_type": "markdown",
   "metadata": {},
   "source": [
    "| Argument | Description |\n",
    "| --- | ---|\n",
    "| **`cvec__n_gram_range`** | The lower and upper boundary of the range of n-values for different n-grams to be extracted. |\n",
    "| **`cvec__max_features`** | build a vocabulary that only consider the top max_features ordered by term frequency across the corpus|\n"
   ]
  },
  {
   "cell_type": "markdown",
   "metadata": {},
   "source": [
    "**Build pipeline before Gridsearching**"
   ]
  },
  {
   "cell_type": "code",
   "execution_count": 300,
   "metadata": {},
   "outputs": [],
   "source": [
    "pipe_3 = Pipeline([\n",
    "    (\"cvec\", CountVectorizer(stop_words = stop_word_list)),\n",
    "    (\"nb\", MultinomialNB())])"
   ]
  },
  {
   "cell_type": "code",
   "execution_count": 306,
   "metadata": {},
   "outputs": [],
   "source": [
    "params_3 = {\n",
    "    \"cvec__ngram_range\": [(1,1), (2,2)],\n",
    "    \"cvec__max_features\": [9000, 12000]}"
   ]
  },
  {
   "cell_type": "code",
   "execution_count": 307,
   "metadata": {},
   "outputs": [],
   "source": [
    "gs_3 = GridSearchCV(pipe_3, params_3, cv=5)"
   ]
  },
  {
   "cell_type": "code",
   "execution_count": 308,
   "metadata": {
    "scrolled": false
   },
   "outputs": [],
   "source": [
    "gs_3.fit(X_train, y_train);"
   ]
  },
  {
   "cell_type": "markdown",
   "metadata": {},
   "source": [
    "**Best Parameters from our Gridsearch**"
   ]
  },
  {
   "cell_type": "code",
   "execution_count": 309,
   "metadata": {},
   "outputs": [
    {
     "data": {
      "text/plain": [
       "{'cvec__max_features': 9000, 'cvec__ngram_range': (1, 1)}"
      ]
     },
     "execution_count": 309,
     "metadata": {},
     "output_type": "execute_result"
    }
   ],
   "source": [
    "gs_3.best_params_"
   ]
  },
  {
   "cell_type": "markdown",
   "metadata": {},
   "source": [
    "**Score from our Gridsearch**"
   ]
  },
  {
   "cell_type": "code",
   "execution_count": 310,
   "metadata": {},
   "outputs": [
    {
     "data": {
      "text/plain": [
       "{'train': 0.9409984871406959,\n",
       " 'test': 0.8411497730711044,\n",
       " 'cv score': 0.8209665928809506,\n",
       " 'sensitivity': 0.8994708994708994,\n",
       " 'specificity': 0.8177966101694916}"
      ]
     },
     "execution_count": 310,
     "metadata": {},
     "output_type": "execute_result"
    }
   ],
   "source": [
    "what_score(gs_3, X, y)"
   ]
  },
  {
   "cell_type": "code",
   "execution_count": 311,
   "metadata": {
    "scrolled": false
   },
   "outputs": [
    {
     "data": {
      "image/png": "[encoded data removed]",
      "text/plain": [
       "<Figure size 1080x360 with 1 Axes>"
      ]
     },
     "metadata": {
      "needs_background": "light"
     },
     "output_type": "display_data"
    }
   ],
   "source": [
    "auc_roc_plot(gs_3, X, y)"
   ]
  },
  {
   "cell_type": "markdown",
   "metadata": {},
   "source": [
    "### Result (Multinomial Naive Bayes: CountVectorizer)\n",
    "\n",
    "Since the scores are better than the logistic regression model, we will go with Multinomial Naive Bayes Model\n",
    "\n",
    "| Scores              | Results             |\n",
    "|-------------------|--------------------|\n",
    "| Train score    | 0.94 | \n",
    "| Test score     | 0.84 | \n",
    "| Cross val score   | 0.82 | \n",
    "| Sensitivity| 0.90 | \n",
    "| Specificity| 0.82| \n",
    "| AUC ROC | 0.97 | \n"
   ]
  },
  {
   "cell_type": "markdown",
   "metadata": {},
   "source": [
    "Observations:\n",
    "\n",
    "- Although the accuracy scores have imporved from Random Forest : TF- IDF, this model shows a stronger sign of overfitting than Random Forest : TF- IDF as well as Logistic Regression : TF - IDF. \n",
    "- This model has the best AUC ROC score than the two previous models, which shows that there is a good balance of type 1 and type 2 errors. Most importantly, it has high sensitivity."
   ]
  },
  {
   "cell_type": "markdown",
   "metadata": {},
   "source": [
    "# Conclusion\n",
    "**Multinomial Naive Bayes/CVEC models was selected to be the final model.**\n",
    "\n",
    "|                  |Logistic Regression/TF-IDF  | Random Forest/TF-IDF  | Multinomial Naive Bayes/CVEC  |\n",
    "|------------------|---------------------|---------------|-------------------------|\n",
    "| Training score   | 0.88              | 0.77        | 0.94                  |\n",
    "| Testing score    | 0.86              | 0.76        | 0.84                |\n",
    "| CV score         | 0.83              | 0.76        | 0.82                  |\n",
    "| Sensitivity      | 0.62              | 0.22        | 0.90                  |\n",
    "| Specificity      | 0.95              | 0.98        | 0.82                  |\n",
    "| ROC AUC score    | 0.96               | 0.87         | 0.98                  |\n",
    "\n",
    "Multinomial Naive Bayes/CVEC model shows high accuracy score with good balance of Type 1 error and Type 2 errors. Most importantly, as we aim to minimize type 2 error, high sensitivity of the Multinomial Naive Bayes/CVEC model indicates that this model is a big advantage."
   ]
  }
 ],
 "metadata": {
  "kernelspec": {
   "display_name": "Python 3",
   "language": "python",
   "name": "python3"
  },
  "language_info": {
   "codemirror_mode": {
    "name": "ipython",
    "version": 3
   },
   "file_extension": ".py",
   "mimetype": "text/x-python",
   "name": "python",
   "nbconvert_exporter": "python",
   "pygments_lexer": "ipython3",
   "version": "3.6.9"
  }
 },
 "nbformat": 4,
 "nbformat_minor": 2
}
