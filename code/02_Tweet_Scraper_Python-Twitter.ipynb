{
 "cells": [
  {
   "cell_type": "code",
   "execution_count": 2,
   "metadata": {},
   "outputs": [],
   "source": [
    "import twitter, json, glob, time\n",
    "import pandas as pd\n",
    "\n",
    "from datetime import datetime"
   ]
  },
  {
   "cell_type": "markdown",
   "metadata": {},
   "source": [
    "### 1. Authorization\n",
    "\n",
    "- **Step 1** Save your credential as following in a json file\n",
    "\n",
    "```\n",
    "{'consumer_key':        CONSUMER_KEY,\n",
    " 'consumer_secret':     CONSUMER_SECRET,\n",
    " 'access_token_key':    ACCESS_TOKEN,\n",
    " 'access_token_secret': ACCESS_TOKEN_SECRET}```\n",
    "\n",
    "- **Step 2** Name the json file \"creds.json\" and save it in the directory this jupyter notebook is located."
   ]
  },
  {
   "cell_type": "code",
   "execution_count": 6,
   "metadata": {},
   "outputs": [],
   "source": [
    "creds_file = open('./creds.json', 'r')\n",
    "twitter_keys = json.loads(creds_file.read())"
   ]
  },
  {
   "cell_type": "code",
   "execution_count": 8,
   "metadata": {},
   "outputs": [],
   "source": [
    "api = twitter.Api(consumer_key         =   twitter_keys['consumer_key'],\n",
    "                  consumer_secret      =   twitter_keys['consumer_key_secret'],\n",
    "                  access_token_key     =   twitter_keys['access_token'],\n",
    "                  access_token_secret  =   twitter_keys['access_token_secret'],\n",
    "                  tweet_mode= 'extended' # tweet_mode= 'extended' is needed to get the full_text.\n",
    "                  ) "
   ]
  },
  {
   "cell_type": "markdown",
   "metadata": {},
   "source": [
    "### 2. Function: get_tweets()\n",
    "- Search for tweets with `keyword` and `geo_list`\n",
    "- Saves the result as a csv in `geo_tweet` folder\n",
    "____\n",
    "**Parameters**\n",
    "- `keyword`: *string* | keyword to search for\n",
    "- `geo_list`: *list of string* | *\"latitude,longitude\"* | list of geographic coordinates to search for\n",
    "- `geo_tweet`: *string* | folder to save csv file"
   ]
  },
  {
   "cell_type": "code",
   "execution_count": 105,
   "metadata": {},
   "outputs": [],
   "source": [
    "def get_tweets(keyword, geo_list, save_dir = 'geo_tweets'):\n",
    "    for i, geo in enumerate(geo_list):\n",
    "        \n",
    "        # Track progress\n",
    "        prog = i +1\n",
    "        \n",
    "        # Search for tweets\n",
    "        coor = geo\n",
    "        tweets = api.GetSearch(term = keyword,\n",
    "                               geocode = coor, \n",
    "                               lang='eng')\n",
    "        \n",
    "        # Grab result from the search\n",
    "        created_at = []\n",
    "\n",
    "        user_id = []\n",
    "        user_location = []\n",
    "        user_name = []\n",
    "\n",
    "        location_type = []\n",
    "        location = []\n",
    "        coordinate = []\n",
    "\n",
    "        hashtags = [] \n",
    "        text = []\n",
    "        re_text = [] \n",
    "\n",
    "        for tweet in tweets:\n",
    "            td = tweet.__dict__\n",
    "            created_at.append(td[\"created_at\"])\n",
    "            hashtags.append([hg.text for hg in td[\"hashtags\"]])\n",
    "            user_id.append(td[\"id\"])\n",
    "            location_type.append(td[\"place\"][\"place_type\"])\n",
    "            location.append(td[\"place\"][\"full_name\"])\n",
    "            coordinate.append(td[\"place\"][\"bounding_box\"][\"coordinates\"])\n",
    "            user_location.append(td[\"user\"].location)\n",
    "            user_name.append(td[\"user\"].screen_name)\n",
    "            text.append(td[\"full_text\"])\n",
    "            if td['retweeted_status']:\n",
    "                re_text.append(td['retweeted_status'].full_text)\n",
    "            else:\n",
    "                re_text.append(\"\")\n",
    "\n",
    "        # Save the result in a dataframe\n",
    "        keys = [\"created_at\", \"user_id\", \"user_location\", \"user_name\",\n",
    "                \"location_type\", \"location\", \"coordinate\",\n",
    "                \"hashtags\", \"text\", \"re_text\"]\n",
    "        values = [created_at, user_id, user_location, user_name,\n",
    "                  location_type, location, coordinate,\n",
    "                  hashtags, text, re_text]\n",
    "        out_df = {}\n",
    "\n",
    "        for key, value in zip(keys, values):\n",
    "            out_df[key] = value\n",
    "\n",
    "        # Save the dataframe as csv\n",
    "        result = pd.DataFrame(out_df)\n",
    "        now = datetime.now()\n",
    "        result.to_csv(\"./\"+ save_dir +\"/\"+keyword+\"_\"+str(prog)+now.strftime(\"_%m%d%y\")+\".csv\", index=False)\n",
    "        \n",
    "        # Notify the progress\n",
    "        print(f\"{prog}/{len(geo_list)} finished\")\n",
    "        \n",
    "        # Wait 5 seconds to avoid reaching rate limit\n",
    "        time.sleep(5)"
   ]
  },
  {
   "cell_type": "markdown",
   "metadata": {},
   "source": [
    "### 2. Function: get_tweets()\n",
    "- Return a list of geographical coordinates around `latitude` and `longitude` as the origin.\n",
    "- The size of the grid is 15 km by 15 km and each geographical coordinate point is 1km apart.\n",
    "____\n",
    "**Parameters**\n",
    "- `latitude`: *float* or *integer* | latitude of the origin to grab the geographical coordinates surrrounding it.\n",
    "- `longitude`: *float* or *integer* | longitude of the origin to grab the geographical coordinates surrrounding it."
   ]
  },
  {
   "cell_type": "code",
   "execution_count": 1,
   "metadata": {},
   "outputs": [],
   "source": [
    "def get_coord(latitude, longitude):\n",
    "    #creating a 15x15 km square (225 points!)\n",
    "    n_vals = list(range(0, 8)) + [-i for i in range(1, 8)]\n",
    "    \n",
    "    #for twitter scrape geo coords have to be of the form \"latitude,longitude,1km\"\n",
    "    longs = [str(round(longitude + .009044 * n, 6)) + \",1km\" for n in n_vals]\n",
    "    lats = [str(round(latitude + .008983 * n, 6)) + \",\" for n in n_vals]\n",
    "    \n",
    "    return [lat+long for lat in lats for long in longs ]"
   ]
  },
  {
   "cell_type": "markdown",
   "metadata": {},
   "source": [
    "### Test run"
   ]
  },
  {
   "cell_type": "code",
   "execution_count": 2,
   "metadata": {},
   "outputs": [],
   "source": [
    "# Geographical coordinates surrouding \"34.098191,-118.478717\"\n",
    "geo_list = get_coord(34.098191,-118.478717)"
   ]
  },
  {
   "cell_type": "code",
   "execution_count": 106,
   "metadata": {},
   "outputs": [
    {
     "name": "stdout",
     "output_type": "stream",
     "text": [
      "1/2 finished\n",
      "2/2 finished\n"
     ]
    }
   ],
   "source": [
    "get_tweets(\"fire\", [\"34.098191,-118.478717,1km\", \"34.098191,-118.478717,1km\"]);"
   ]
  },
  {
   "cell_type": "markdown",
   "metadata": {},
   "source": [
    "### 4. Function: merge_by_keyword()\n",
    "- Merge all csv files generated from **get_tweets()** by keyword.\n",
    "- Save the merged files into a dataframe.\n",
    "- if `keyword` is True, it saves the dataframe in a csv file.\n",
    "- Note: Create a directory in 'geo_tweets' and name it 'merged'.\n",
    "---\n",
    "**Parameters**\n",
    "- `keyword`: *string* | keyword to search for\n",
    "- `save_csv`: *boolean* | if True, it saves the \n"
   ]
  },
  {
   "cell_type": "code",
   "execution_count": 49,
   "metadata": {},
   "outputs": [],
   "source": [
    "def merge_by_keyword(keyword, save_csv = False):\n",
    "    datas = glob.glob(\"./geo_tweets/\"+keyword+\"*\")\n",
    "    merged_df = pd.concat([pd.read_csv(data) for data in datas])\n",
    "    if save_csv:\n",
    "        now = datetime.now()\n",
    "        merged_df.to_csv(\"./geo_tweets/merged/\"+keyword+now.strftime(\"_%m%d%y\")+\".csv\", index=False)\n",
    "    return merged_df"
   ]
  },
  {
   "cell_type": "markdown",
   "metadata": {},
   "source": [
    "### Test run"
   ]
  },
  {
   "cell_type": "code",
   "execution_count": 53,
   "metadata": {},
   "outputs": [],
   "source": [
    "df = merge_by_keyword(\"fire\", save_csv= True)"
   ]
  },
  {
   "cell_type": "code",
   "execution_count": 54,
   "metadata": {
    "scrolled": true
   },
   "outputs": [
    {
     "data": {
      "text/html": [
       "<div>\n",
       "<style scoped>\n",
       "    .dataframe tbody tr th:only-of-type {\n",
       "        vertical-align: middle;\n",
       "    }\n",
       "\n",
       "    .dataframe tbody tr th {\n",
       "        vertical-align: top;\n",
       "    }\n",
       "\n",
       "    .dataframe thead th {\n",
       "        text-align: right;\n",
       "    }\n",
       "</style>\n",
       "<table border=\"1\" class=\"dataframe\">\n",
       "  <thead>\n",
       "    <tr style=\"text-align: right;\">\n",
       "      <th></th>\n",
       "      <th>created_at</th>\n",
       "      <th>user_id</th>\n",
       "      <th>user_location</th>\n",
       "      <th>user_name</th>\n",
       "      <th>location_type</th>\n",
       "      <th>location</th>\n",
       "      <th>coordinate</th>\n",
       "      <th>hashtags</th>\n",
       "      <th>text</th>\n",
       "    </tr>\n",
       "  </thead>\n",
       "  <tbody>\n",
       "    <tr>\n",
       "      <th>0</th>\n",
       "      <td>Mon Oct 28 19:17:07 +0000 2019</td>\n",
       "      <td>1188897501278900224</td>\n",
       "      <td>Los Angeles</td>\n",
       "      <td>abc7robhayes</td>\n",
       "      <td>neighborhood</td>\n",
       "      <td>Brentwood, Los Angeles</td>\n",
       "      <td>[[[-118.528736, 34.041356], [-118.457499, 34.0...</td>\n",
       "      <td>[]</td>\n",
       "      <td>Before/After the Getty Fire. \\n\\nThis is 1510 ...</td>\n",
       "    </tr>\n",
       "    <tr>\n",
       "      <th>1</th>\n",
       "      <td>Wed Oct 30 07:50:37 +0000 2019</td>\n",
       "      <td>1189449512961495040</td>\n",
       "      <td>Los Angeles, CA</td>\n",
       "      <td>jintakhan</td>\n",
       "      <td>poi</td>\n",
       "      <td>Mount St. Mary's College Campus Center</td>\n",
       "      <td>[[[-118.48168318584761, 34.08396202249944], [-...</td>\n",
       "      <td>[]</td>\n",
       "      <td>Up at Mount St. Mary’s University. The wind is...</td>\n",
       "    </tr>\n",
       "    <tr>\n",
       "      <th>2</th>\n",
       "      <td>Tue Oct 29 16:31:26 +0000 2019</td>\n",
       "      <td>1189218195116158976</td>\n",
       "      <td>santa monica . maine . boston</td>\n",
       "      <td>runawaykat</td>\n",
       "      <td>neighborhood</td>\n",
       "      <td>Brentwood, Los Angeles</td>\n",
       "      <td>[[[-118.528736, 34.041356], [-118.457499, 34.0...</td>\n",
       "      <td>[]</td>\n",
       "      <td>los angeles renters, i just asked my leasing o...</td>\n",
       "    </tr>\n",
       "  </tbody>\n",
       "</table>\n",
       "</div>"
      ],
      "text/plain": [
       "                       created_at              user_id  \\\n",
       "0  Mon Oct 28 19:17:07 +0000 2019  1188897501278900224   \n",
       "1  Wed Oct 30 07:50:37 +0000 2019  1189449512961495040   \n",
       "2  Tue Oct 29 16:31:26 +0000 2019  1189218195116158976   \n",
       "\n",
       "                   user_location     user_name location_type  \\\n",
       "0                    Los Angeles  abc7robhayes  neighborhood   \n",
       "1                Los Angeles, CA     jintakhan           poi   \n",
       "2  santa monica . maine . boston    runawaykat  neighborhood   \n",
       "\n",
       "                                 location  \\\n",
       "0                  Brentwood, Los Angeles   \n",
       "1  Mount St. Mary's College Campus Center   \n",
       "2                  Brentwood, Los Angeles   \n",
       "\n",
       "                                          coordinate hashtags  \\\n",
       "0  [[[-118.528736, 34.041356], [-118.457499, 34.0...       []   \n",
       "1  [[[-118.48168318584761, 34.08396202249944], [-...       []   \n",
       "2  [[[-118.528736, 34.041356], [-118.457499, 34.0...       []   \n",
       "\n",
       "                                                text  \n",
       "0  Before/After the Getty Fire. \\n\\nThis is 1510 ...  \n",
       "1  Up at Mount St. Mary’s University. The wind is...  \n",
       "2  los angeles renters, i just asked my leasing o...  "
      ]
     },
     "execution_count": 54,
     "metadata": {},
     "output_type": "execute_result"
    }
   ],
   "source": [
    "df"
   ]
  },
  {
   "cell_type": "markdown",
   "metadata": {},
   "source": [
    "The follwing parameters were used in 'get_tweets()' function.\n",
    "- `Keyword` used in query: \n",
    "     - fire, tick fire, wild fire, california fire, los angeles fire, la fire, getty fire, easy fire, maria fire\n",
    "\n",
    "- `geo_list` used in query:\n",
    "     - maria_coord = get_coord(34.342314, -118.991682)\n",
    "     - tick_coord = get_coord(34.47, -118.37)\n",
    "     - getty_coord = get_coord(34.098191, -118.478717)\n",
    "\n",
    "As a result, 90 unique tweets were scrapped."
   ]
  },
  {
   "cell_type": "markdown",
   "metadata": {},
   "source": [
    "Coordinates returned from the Python Twitter scrapper were a list of four coordinate points that formed a boundary. A random coordinate points (latitude and longitude) within the boundary were selected and assigned to column 'lat' and 'long' column."
   ]
  },
  {
   "cell_type": "markdown",
   "metadata": {},
   "source": [
    "The result was saved as `tweets_w_geo_python_twitter.csv`.\n",
    "- See `tweets_w_geo_python_twitter.csv` below."
   ]
  },
  {
   "cell_type": "code",
   "execution_count": 16,
   "metadata": {},
   "outputs": [
    {
     "data": {
      "text/html": [
       "<div>\n",
       "<style scoped>\n",
       "    .dataframe tbody tr th:only-of-type {\n",
       "        vertical-align: middle;\n",
       "    }\n",
       "\n",
       "    .dataframe tbody tr th {\n",
       "        vertical-align: top;\n",
       "    }\n",
       "\n",
       "    .dataframe thead th {\n",
       "        text-align: right;\n",
       "    }\n",
       "</style>\n",
       "<table border=\"1\" class=\"dataframe\">\n",
       "  <thead>\n",
       "    <tr style=\"text-align: right;\">\n",
       "      <th></th>\n",
       "      <th>text</th>\n",
       "      <th>lat</th>\n",
       "      <th>long</th>\n",
       "      <th>user_name</th>\n",
       "      <th>location</th>\n",
       "      <th>user_location</th>\n",
       "    </tr>\n",
       "  </thead>\n",
       "  <tbody>\n",
       "    <tr>\n",
       "      <th>0</th>\n",
       "      <td>Before/After the Getty Fire. \\n\\nThis is 1510 ...</td>\n",
       "      <td>34.096350</td>\n",
       "      <td>-118.502207</td>\n",
       "      <td>abc7robhayes</td>\n",
       "      <td>Brentwood, Los Angeles</td>\n",
       "      <td>Los Angeles</td>\n",
       "    </tr>\n",
       "    <tr>\n",
       "      <th>1</th>\n",
       "      <td>Up at Mount St. Mary’s University. The wind is...</td>\n",
       "      <td>34.083962</td>\n",
       "      <td>-118.481683</td>\n",
       "      <td>jintakhan</td>\n",
       "      <td>Mount St. Mary's College Campus Center</td>\n",
       "      <td>Los Angeles, CA</td>\n",
       "    </tr>\n",
       "    <tr>\n",
       "      <th>2</th>\n",
       "      <td>los angeles renters, i just asked my leasing o...</td>\n",
       "      <td>34.070677</td>\n",
       "      <td>-118.486314</td>\n",
       "      <td>runawaykat</td>\n",
       "      <td>Brentwood, Los Angeles</td>\n",
       "      <td>santa monica . maine . boston</td>\n",
       "    </tr>\n",
       "    <tr>\n",
       "      <th>3</th>\n",
       "      <td>Horrible situation on #tigertail right now in ...</td>\n",
       "      <td>34.076485</td>\n",
       "      <td>-118.488554</td>\n",
       "      <td>abc7JoshHaskell</td>\n",
       "      <td>Crestwood Hills Recreation Center</td>\n",
       "      <td>Los Angeles, CA</td>\n",
       "    </tr>\n",
       "    <tr>\n",
       "      <th>4</th>\n",
       "      <td>Good morning from near the fire lines. We are ...</td>\n",
       "      <td>34.081526</td>\n",
       "      <td>-118.506668</td>\n",
       "      <td>ChristinaKTLA</td>\n",
       "      <td>Mandeville Canyon</td>\n",
       "      <td>Los Angeles</td>\n",
       "    </tr>\n",
       "  </tbody>\n",
       "</table>\n",
       "</div>"
      ],
      "text/plain": [
       "                                                text        lat        long  \\\n",
       "0  Before/After the Getty Fire. \\n\\nThis is 1510 ...  34.096350 -118.502207   \n",
       "1  Up at Mount St. Mary’s University. The wind is...  34.083962 -118.481683   \n",
       "2  los angeles renters, i just asked my leasing o...  34.070677 -118.486314   \n",
       "3  Horrible situation on #tigertail right now in ...  34.076485 -118.488554   \n",
       "4  Good morning from near the fire lines. We are ...  34.081526 -118.506668   \n",
       "\n",
       "         user_name                                location  \\\n",
       "0     abc7robhayes                  Brentwood, Los Angeles   \n",
       "1        jintakhan  Mount St. Mary's College Campus Center   \n",
       "2       runawaykat                  Brentwood, Los Angeles   \n",
       "3  abc7JoshHaskell       Crestwood Hills Recreation Center   \n",
       "4    ChristinaKTLA                       Mandeville Canyon   \n",
       "\n",
       "                   user_location  \n",
       "0                    Los Angeles  \n",
       "1                Los Angeles, CA  \n",
       "2  santa monica . maine . boston  \n",
       "3                Los Angeles, CA  \n",
       "4                   Los Angeles   "
      ]
     },
     "execution_count": 16,
     "metadata": {},
     "output_type": "execute_result"
    }
   ],
   "source": [
    "pd.read_csv('../data/tweets_w_geo_python_twitter.csv').head()"
   ]
  },
  {
   "cell_type": "markdown",
   "metadata": {},
   "source": [
    "Due to the time constraint, we failed to scrape more tweets with this scrapper. Therefore, we merged `tweets_w_geo_python_twitter.csv` with scrapped disaster related tweets with geo_coordinates that another team previously worked on. To see the team's work, visit the link: https://github.com/csinatra/Twitter-Disaster-Repo."
   ]
  },
  {
   "cell_type": "markdown",
   "metadata": {},
   "source": [
    "- Previous team data (github username: 'csinatra')"
   ]
  },
  {
   "cell_type": "code",
   "execution_count": 12,
   "metadata": {},
   "outputs": [
    {
     "data": {
      "text/html": [
       "<div>\n",
       "<style scoped>\n",
       "    .dataframe tbody tr th:only-of-type {\n",
       "        vertical-align: middle;\n",
       "    }\n",
       "\n",
       "    .dataframe tbody tr th {\n",
       "        vertical-align: top;\n",
       "    }\n",
       "\n",
       "    .dataframe thead th {\n",
       "        text-align: right;\n",
       "    }\n",
       "</style>\n",
       "<table border=\"1\" class=\"dataframe\">\n",
       "  <thead>\n",
       "    <tr style=\"text-align: right;\">\n",
       "      <th></th>\n",
       "      <th>tweet</th>\n",
       "      <th>label</th>\n",
       "      <th>lat</th>\n",
       "      <th>long</th>\n",
       "    </tr>\n",
       "  </thead>\n",
       "  <tbody>\n",
       "    <tr>\n",
       "      <th>0</th>\n",
       "      <td>@jackshope They are airlifting our crew into C...</td>\n",
       "      <td>off-topic</td>\n",
       "      <td>34.082321</td>\n",
       "      <td>-117.335853</td>\n",
       "    </tr>\n",
       "    <tr>\n",
       "      <th>1</th>\n",
       "      <td>#Skywire was boring, what was exciting was whe...</td>\n",
       "      <td>off-topic</td>\n",
       "      <td>34.122635</td>\n",
       "      <td>-117.243592</td>\n",
       "    </tr>\n",
       "    <tr>\n",
       "      <th>2</th>\n",
       "      <td>@WBrettWilson @TarzanDan whenever works for yo...</td>\n",
       "      <td>off-topic</td>\n",
       "      <td>34.092197</td>\n",
       "      <td>-117.266696</td>\n",
       "    </tr>\n",
       "    <tr>\n",
       "      <th>3</th>\n",
       "      <td>@joshclassenCTV you are dead wrong sir there i...</td>\n",
       "      <td>on-topic</td>\n",
       "      <td>34.049241</td>\n",
       "      <td>-117.378255</td>\n",
       "    </tr>\n",
       "    <tr>\n",
       "      <th>4</th>\n",
       "      <td>I'm at Canada Olympic Park (Calgary, AB) http:...</td>\n",
       "      <td>off-topic</td>\n",
       "      <td>33.704540</td>\n",
       "      <td>-117.192101</td>\n",
       "    </tr>\n",
       "  </tbody>\n",
       "</table>\n",
       "</div>"
      ],
      "text/plain": [
       "                                               tweet      label        lat  \\\n",
       "0  @jackshope They are airlifting our crew into C...  off-topic  34.082321   \n",
       "1  #Skywire was boring, what was exciting was whe...  off-topic  34.122635   \n",
       "2  @WBrettWilson @TarzanDan whenever works for yo...  off-topic  34.092197   \n",
       "3  @joshclassenCTV you are dead wrong sir there i...   on-topic  34.049241   \n",
       "4  I'm at Canada Olympic Park (Calgary, AB) http:...  off-topic  33.704540   \n",
       "\n",
       "         long  \n",
       "0 -117.335853  \n",
       "1 -117.243592  \n",
       "2 -117.266696  \n",
       "3 -117.378255  \n",
       "4 -117.192101  "
      ]
     },
     "execution_count": 12,
     "metadata": {},
     "output_type": "execute_result"
    }
   ],
   "source": [
    "pd.read_csv('../data/tweets_w_geo_previous_team.csv').head().drop('Unnamed: 0', axis=1)"
   ]
  }
 ],
 "metadata": {
  "kernelspec": {
   "display_name": "Python 3",
   "language": "python",
   "name": "python3"
  },
  "language_info": {
   "codemirror_mode": {
    "name": "ipython",
    "version": 3
   },
   "file_extension": ".py",
   "mimetype": "text/x-python",
   "name": "python",
   "nbconvert_exporter": "python",
   "pygments_lexer": "ipython3",
   "version": "3.6.9"
  }
 },
 "nbformat": 4,
 "nbformat_minor": 2
}
