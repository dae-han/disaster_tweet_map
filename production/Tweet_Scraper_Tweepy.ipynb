{
 "cells": [
  {
   "cell_type": "code",
   "execution_count": 36,
   "metadata": {},
   "outputs": [],
   "source": [
    "import numpy as np\n",
    "import pandas as pd\n",
    "import requests, json, time, os\n",
    "import tweepy\n",
    "from datetime import datetime"
   ]
  },
  {
   "cell_type": "markdown",
   "metadata": {},
   "source": [
    "### Authorization\n",
    "\n",
    "- **Step 1** Save your credential as following in a json file\n",
    "\n",
    "```\n",
    "{'consumer_key':        CONSUMER_KEY,\n",
    " 'consumer_key_secret': CONSUMER_SECRET,\n",
    " 'access_token':        ACCESS_TOKEN,\n",
    " 'access_token_secret': ACCESS_TOKEN_SECRET}```\n",
    "\n",
    "- **Step 2** Name the json file \"creds.json\" and save it in the directory this jupyter notebook is located.\n",
    "\n"
   ]
  },
  {
   "cell_type": "code",
   "execution_count": 24,
   "metadata": {},
   "outputs": [],
   "source": [
    "creds_file = open(\"./creds.json\", \"r\")\n",
    "twitter_creds = json.loads(creds_file.read())\n",
    "auth = tweepy.OAuthHandler(twitter_creds[\"consumer_key\"], twitter_creds[\"consumer_key_secret\"])\n",
    "auth.set_access_token(twitter_creds[\"access_token\"], twitter_creds[\"access_token_secret\"])\n",
    "api = tweepy.API(auth, wait_on_rate_limit=True, wait_on_rate_limit_notify=True)"
   ]
  },
  {
   "cell_type": "markdown",
   "metadata": {},
   "source": [
    "### Function: hashtag_scrape()\n",
    "Source: https://www.programcreek.com/python/example/76301/tweepy.Cursor\n",
    "\n",
    "Scrape tweets using tweepy.Cursor() with following hyperparameters\n",
    "- `q`: keyword to search for\n",
    "- `tweet_mode`: set \"extended\" to get the full text, instead of truncated version.\n",
    "- `lang`: language of the tweet\n",
    "- `result_type`: \"recent\", \"mixed\", or \"popular\"\n",
    "- `rpp`: The number of tweets to return per page\n",
    "\n",
    "---\n",
    "Parameters:\n",
    "- `hashtag`: *str* | keyword to search for \n"
   ]
  },
  {
   "cell_type": "code",
   "execution_count": 2,
   "metadata": {},
   "outputs": [],
   "source": [
    "def hashtag_scrape(hashtag):\n",
    "    \n",
    "    list_of_dicts = []\n",
    "\n",
    "    for tweet in tweepy.Cursor(api.search, \n",
    "                               q=str(hashtag), \n",
    "                               tweet_mode=\"extended\", \n",
    "                               lang=\"en\", \n",
    "                               result_type=\"recent\", \n",
    "                               rpp=100).items():\n",
    "        tweets = {}\n",
    "        tweets[\"text\"] = tweet.full_text\n",
    "        tweets[\"user_name\"] = tweet.user.name\n",
    "        tweets[\"screen_name\"] = tweet.user.screen_name\n",
    "        tweets[\"creation_time\"] = tweet.created_at\n",
    "        tweets[\"user_location\"] = tweet.user.location\n",
    "        tweets[\"coordinates\"] = tweet.coordinates\n",
    "        tweets[\"retweet_count\"] = tweet.retweet_count\n",
    "        tweets[\"favorite_count\"] = tweet.favorite_count\n",
    "        \n",
    "        list_of_dicts.append(tweets)\n",
    "        \n",
    "    df = pd.DataFrame(list_of_dicts)\n",
    "    now = datetime.now()\n",
    "    df.to_csv(\"./tweets/\"+str(hashtag)+now.strftime(\"%-H_%-m_%-d\")+\".csv\", index=False)"
   ]
  },
  {
   "cell_type": "markdown",
   "metadata": {},
   "source": [
    "### Test run"
   ]
  },
  {
   "cell_type": "code",
   "execution_count": null,
   "metadata": {},
   "outputs": [],
   "source": [
    "hashtag_scrape(hashtag=\"#losangelesfires\")"
   ]
  }
 ],
 "metadata": {
  "kernelspec": {
   "display_name": "Python 3",
   "language": "python",
   "name": "python3"
  },
  "language_info": {
   "codemirror_mode": {
    "name": "ipython",
    "version": 3
   },
   "file_extension": ".py",
   "mimetype": "text/x-python",
   "name": "python",
   "nbconvert_exporter": "python",
   "pygments_lexer": "ipython3",
   "version": "3.6.9"
  }
 },
 "nbformat": 4,
 "nbformat_minor": 2
}
